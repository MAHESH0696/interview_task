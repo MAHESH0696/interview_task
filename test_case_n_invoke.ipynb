{
 "cells": [
  {
   "cell_type": "code",
   "execution_count": 5,
   "id": "f3a89f7e-166a-476a-adb5-f8972c7df98a",
   "metadata": {},
   "outputs": [],
   "source": [
    "import nbimporter, pytest"
   ]
  },
  {
   "cell_type": "code",
   "execution_count": 6,
   "id": "0bc18150-5dc2-4b80-9bbb-4bd6b136af7a",
   "metadata": {},
   "outputs": [],
   "source": [
    "%run ./assessment_petition_count_transpose.ipynb"
   ]
  },
  {
   "cell_type": "code",
   "execution_count": 7,
   "id": "6c355b0e-775d-4d86-b927-5c05fdc95de0",
   "metadata": {},
   "outputs": [],
   "source": [
    "result_df = petition_top_20_word_count()"
   ]
  },
  {
   "cell_type": "code",
   "execution_count": null,
   "id": "383f9d7f-65a1-426a-b641-a24f3f9734eb",
   "metadata": {},
   "outputs": [],
   "source": [
    "# result_df.write.mode(\"overwrite\").csv(\"path_of_csv_file\")"
   ]
  },
  {
   "cell_type": "code",
   "execution_count": 8,
   "id": "7ccdd446-9a5b-4dd6-a557-8b7344174b0f",
   "metadata": {},
   "outputs": [
    {
     "name": "stdout",
     "output_type": "stream",
     "text": [
      "+----------+------+-----+------+----------+-----+-----+-----+-----+--------+-----+-----+------+-----+-------+------+-----+---------+-----+-----+-------+\n",
      "|petitionId|should|their|people|government|there|would|which|being|children|years|these|public|other|british|health|after|currently|those|needs|country|\n",
      "+----------+------+-----+------+----------+-----+-----+-----+-----+--------+-----+-----+------+-----+-------+------+-----+---------+-----+-----+-------+\n",
      "|         1|     1|    0|     0|         0|    0|    0|    0|    0|       0|    0|    0|     0|    1|      0|     0|    0|        0|    0|    0|      0|\n",
      "|         2|     0|    0|     0|         0|    0|    0|    0|    0|       0|    0|    0|     0|    0|      0|     0|    0|        0|    0|    0|      0|\n",
      "|         3|     0|    0|     0|         0|    0|    0|    1|    0|       0|    0|    0|     0|    0|      0|     0|    0|        0|    0|    0|      0|\n",
      "|         4|     1|    1|     0|         0|    0|    2|    0|    0|       0|    0|    0|     0|    0|      0|     0|    0|        0|    0|    0|      0|\n",
      "|         5|     1|    1|     1|         0|    0|    0|    1|    0|       0|    0|    0|     0|    0|      0|     0|    0|        0|    0|    0|      0|\n",
      "|         6|     0|    0|     0|         0|    0|    1|    0|    0|       0|    0|    0|     0|    0|      0|     0|    0|        0|    0|    0|      0|\n",
      "|         7|     0|    2|     2|         1|    0|    0|    0|    0|       0|    0|    0|     0|    0|      0|     0|    0|        0|    0|    0|      0|\n",
      "|         8|     0|    0|     1|         0|    0|    0|    0|    1|       0|    0|    0|     0|    0|      0|     1|    0|        0|    0|    1|      0|\n",
      "|         9|     0|    0|     0|         0|    0|    0|    0|    0|       0|    0|    0|     0|    0|      0|     0|    0|        0|    0|    0|      0|\n",
      "|        10|     0|    0|     2|         0|    0|    0|    0|    0|       0|    0|    0|     0|    0|      0|     0|    0|        0|    0|    0|      0|\n",
      "|        11|     0|    1|     0|         0|    0|    0|    0|    0|       0|    0|    0|     0|    0|      0|     0|    0|        0|    0|    0|      0|\n",
      "|        12|     0|    0|     0|         1|    0|    0|    0|    0|       3|    0|    0|     0|    0|      0|     0|    0|        0|    0|    0|      0|\n",
      "|        13|     0|    0|     0|         0|    1|    1|    1|    0|       0|    0|    0|     0|    0|      0|     0|    0|        0|    0|    0|      0|\n",
      "|        14|     0|    0|     0|         1|    0|    0|    0|    0|       0|    2|    2|     0|    0|      0|     0|    0|        0|    0|    0|      0|\n",
      "|        15|     0|    0|     0|         0|    0|    1|    0|    0|       0|    0|    0|     0|    0|      0|     0|    0|        0|    0|    0|      0|\n",
      "|        16|     1|    0|     0|         1|    0|    0|    0|    0|       0|    0|    0|     0|    0|      0|     1|    0|        0|    0|    0|      0|\n",
      "|        17|     1|    0|     0|         0|    0|    0|    1|    0|       0|    1|    0|     0|    1|      0|     0|    0|        0|    0|    0|      1|\n",
      "|        18|     0|    0|     0|         0|    0|    0|    0|    1|       0|    0|    0|     0|    0|      0|     0|    0|        0|    0|    0|      0|\n",
      "|        19|     1|    1|     0|         0|    0|    1|    0|    0|       0|    0|    0|     0|    0|      0|     0|    0|        0|    0|    0|      0|\n",
      "|        20|     0|    0|     0|         0|    0|    0|    0|    1|       1|    0|    0|     0|    0|      0|     0|    0|        0|    0|    0|      0|\n",
      "+----------+------+-----+------+----------+-----+-----+-----+-----+--------+-----+-----+------+-----+-------+------+-----+---------+-----+-----+-------+\n",
      "only showing top 20 rows\n",
      "\n"
     ]
    }
   ],
   "source": [
    "result_df.show()"
   ]
  },
  {
   "cell_type": "code",
   "execution_count": 13,
   "id": "cf9a3d1c-7b7d-4f78-98a0-703d2e33427d",
   "metadata": {},
   "outputs": [],
   "source": [
    "def check_number_of_columns(input_df):\n",
    "    return len(input_df.columns)\n",
    "\n",
    "def test_number_of_columns():\n",
    "    try:\n",
    "        total_number_of_columns = check_number_of_columns(result_df)\n",
    "        assert total_number_of_columns == 21\n",
    "        print(\"Test case passed!\")\n",
    "    except Exception as e:\n",
    "        print(f\"Test case not passed!: {e}\")"
   ]
  },
  {
   "cell_type": "code",
   "execution_count": 14,
   "id": "3a9b1024-1c43-47da-9e19-f7b81123b02d",
   "metadata": {},
   "outputs": [
    {
     "name": "stdout",
     "output_type": "stream",
     "text": [
      "Test case passed!\n"
     ]
    }
   ],
   "source": [
    "test_number_of_columns()"
   ]
  },
  {
   "cell_type": "code",
   "execution_count": null,
   "id": "4fb5117c",
   "metadata": {},
   "outputs": [],
   "source": []
  }
 ],
 "metadata": {
  "kernelspec": {
   "display_name": "Python 3 (ipykernel)",
   "language": "python",
   "name": "python3"
  },
  "language_info": {
   "codemirror_mode": {
    "name": "ipython",
    "version": 3
   },
   "file_extension": ".py",
   "mimetype": "text/x-python",
   "name": "python",
   "nbconvert_exporter": "python",
   "pygments_lexer": "ipython3",
   "version": "3.8.10"
  }
 },
 "nbformat": 4,
 "nbformat_minor": 5
}

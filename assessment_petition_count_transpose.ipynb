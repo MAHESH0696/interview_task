{
 "cells": [
  {
   "cell_type": "code",
   "execution_count": 1,
   "id": "70def747-8cfe-4eb5-9c29-7f2f9f0d4f4c",
   "metadata": {},
   "outputs": [],
   "source": [
    "import pyspark"
   ]
  },
  {
   "cell_type": "code",
   "execution_count": 2,
   "id": "f43962a6-a83e-4cd7-ac7e-0cfb20980d84",
   "metadata": {},
   "outputs": [],
   "source": [
    "from pyspark.sql import SparkSession"
   ]
  },
  {
   "cell_type": "code",
   "execution_count": 4,
   "id": "ae4f1e14-082a-4437-b2bb-e2c3668ba13c",
   "metadata": {},
   "outputs": [],
   "source": [
    "from pyspark.sql.functions import col, regexp_replace, split, lower, explode, length, size, monotonically_increasing_id"
   ]
  },
  {
   "cell_type": "code",
   "execution_count": 5,
   "id": "998f0742-546e-4b95-86fc-0ec9f962285b",
   "metadata": {},
   "outputs": [],
   "source": [
    "from pyspark.sql.types import StructType, StructField, StringType, IntegerType"
   ]
  },
  {
   "cell_type": "code",
   "execution_count": 6,
   "id": "6c536bb0-1f00-41f2-bf10-271b6c81dc1e",
   "metadata": {},
   "outputs": [],
   "source": [
    "spark = SparkSession.builder.master(\"local[*]\").appName(\"petition_analyzer\").getOrCreate()"
   ]
  },
  {
   "cell_type": "code",
   "execution_count": 7,
   "id": "8ec3ca87-4a68-4ef8-a0a7-5772a23c2481",
   "metadata": {},
   "outputs": [],
   "source": [
    "spark.conf.set(\"spark.hadoop.fs.native.io.enabled\", \"false\")"
   ]
  },
  {
   "cell_type": "code",
   "execution_count": 8,
   "id": "14d7f3ab",
   "metadata": {},
   "outputs": [],
   "source": [
    "def petition_top_20_word_count():\n",
    "    schema = StructType([\n",
    "        StructField(\"abstract\", StructType([\n",
    "            StructField(\"_value\", StringType(), True)\n",
    "        ]), True),\n",
    "        StructField(\"label\", StructType([\n",
    "            StructField(\"_value\", StringType(), True)\n",
    "        ]), True),\n",
    "        StructField(\"numberOfSignatures\", IntegerType(), True)\n",
    "    ])\n",
    "    \n",
    "    sample_inp_df = spark.read.schema(schema).json(\"C:\\\\Aviva\\\\input_data.json\")\n",
    "    \n",
    "    flattened_df = sample_inp_df.select(\n",
    "    col(\"abstract._value\").alias(\"petition_text\"),\n",
    "    col(\"label._value\").alias(\"petition_title\"),\n",
    "    col(\"numberOfSignatures\")\n",
    "    )\n",
    "    clean_df = flattened_df.withColumn(\"petition_text\", regexp_replace(\"petition_text\", \"[^A-Za-z0-9\\\\s]\", \"\"))\\\n",
    "                           .withColumn(\"petition_title\", regexp_replace(\"petition_title\", \"[^A-Za-z0-9\\\\s]\", \"\"))\\\n",
    "                           .withColumn(\"word_list\", split(regexp_replace(lower(col(\"petition_text\")), \"[^a-zA-Z0-9\\\\s]\", \"\"), \" \"))\n",
    "    \n",
    "    df_word_list = clean_df.withColumn(\"word\", explode(col(\"word_list\")))\n",
    "    word_counts = df_word_list.groupBy(\"word\").count()\n",
    "    top_20_words = word_counts.filter(length(col(\"word\")) >= 5).orderBy(col(\"count\").desc()).limit(20).collect()\n",
    "    top_words = []\n",
    "    for row in top_20_words:\n",
    "        top_words.append(row[0])\n",
    "    \n",
    "    final_df = clean_df.select(\"petition_text\",\"petition_title\",\"numberOfSignatures\")\\\n",
    "                       .withColumn(\"petitionId\",monotonically_increasing_id()+1)\n",
    "    \n",
    "    for word in top_words:\n",
    "        final_df = final_df.withColumn(word, size(split(lower(col(\"petition_text\")), word))-1)\n",
    "    \n",
    "    final_df = final_df.drop(\"petition_text\",\"petition_title\",\"numberOfSignatures\")\n",
    "    return final_df"
   ]
  }
 ],
 "metadata": {
  "kernelspec": {
   "display_name": "Python 3",
   "language": "python",
   "name": "python3"
  },
  "language_info": {
   "codemirror_mode": {
    "name": "ipython",
    "version": 3
   },
   "file_extension": ".py",
   "mimetype": "text/x-python",
   "name": "python",
   "nbconvert_exporter": "python",
   "pygments_lexer": "ipython3",
   "version": "3.8.10"
  }
 },
 "nbformat": 4,
 "nbformat_minor": 5
}
